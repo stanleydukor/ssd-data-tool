{
 "cells": [
  {
   "cell_type": "code",
   "execution_count": 7,
   "metadata": {},
   "outputs": [],
   "source": [
    "import pandas as pd\n",
    "import os"
   ]
  },
  {
   "cell_type": "code",
   "execution_count": 8,
   "metadata": {
    "colab": {
     "base_uri": "https://localhost:8080/",
     "height": 77
    },
    "colab_type": "code",
    "executionInfo": {
     "elapsed": 2113,
     "status": "ok",
     "timestamp": 1587375098213,
     "user": {
      "displayName": "Stanley Dukor",
      "photoUrl": "",
      "userId": "09183284933821269350"
     },
     "user_tz": -60
    },
    "id": "MozDtMUoDZ4r",
    "outputId": "65bbc8c0-6235-4e6a-a870-0e5765370d1b"
   },
   "outputs": [
    {
     "data": {
      "text/html": [
       "<div>\n",
       "<style scoped>\n",
       "    .dataframe tbody tr th:only-of-type {\n",
       "        vertical-align: middle;\n",
       "    }\n",
       "\n",
       "    .dataframe tbody tr th {\n",
       "        vertical-align: top;\n",
       "    }\n",
       "\n",
       "    .dataframe thead th {\n",
       "        text-align: right;\n",
       "    }\n",
       "</style>\n",
       "<table border=\"1\" class=\"dataframe\">\n",
       "  <thead>\n",
       "    <tr style=\"text-align: right;\">\n",
       "      <th></th>\n",
       "      <th>image</th>\n",
       "      <th>target</th>\n",
       "    </tr>\n",
       "  </thead>\n",
       "  <tbody>\n",
       "    <tr>\n",
       "      <th>0</th>\n",
       "      <td>tfymlmdkpzkqdjhdxyhnoeuqszxphw.jpg</td>\n",
       "      <td>0</td>\n",
       "    </tr>\n",
       "    <tr>\n",
       "      <th>1</th>\n",
       "      <td>rxgismgsvmaayzjarbfjaljhqmpbrt.jpg</td>\n",
       "      <td>1</td>\n",
       "    </tr>\n",
       "    <tr>\n",
       "      <th>2</th>\n",
       "      <td>uuzshfrhkgrkolhwdvliqauzulurnz.jpg</td>\n",
       "      <td>0</td>\n",
       "    </tr>\n",
       "    <tr>\n",
       "      <th>3</th>\n",
       "      <td>mjspxsagzusaznvnyxgamtrlqkqklp.jpg</td>\n",
       "      <td>0</td>\n",
       "    </tr>\n",
       "    <tr>\n",
       "      <th>4</th>\n",
       "      <td>rlbmuajgezfiddjzlyeoupxpqubkpt.jpg</td>\n",
       "      <td>1</td>\n",
       "    </tr>\n",
       "  </tbody>\n",
       "</table>\n",
       "</div>"
      ],
      "text/plain": [
       "                                image  target\n",
       "0  tfymlmdkpzkqdjhdxyhnoeuqszxphw.jpg       0\n",
       "1  rxgismgsvmaayzjarbfjaljhqmpbrt.jpg       1\n",
       "2  uuzshfrhkgrkolhwdvliqauzulurnz.jpg       0\n",
       "3  mjspxsagzusaznvnyxgamtrlqkqklp.jpg       0\n",
       "4  rlbmuajgezfiddjzlyeoupxpqubkpt.jpg       1"
      ]
     },
     "execution_count": 8,
     "metadata": {},
     "output_type": "execute_result"
    }
   ],
   "source": [
    "path = './'\n",
    "df = pd.read_csv(path+'train_labels.csv')\n",
    "df.head()"
   ]
  },
  {
   "cell_type": "code",
   "execution_count": 9,
   "metadata": {},
   "outputs": [
    {
     "data": {
      "text/plain": [
       "0    664\n",
       "1    644\n",
       "Name: target, dtype: int64"
      ]
     },
     "execution_count": 9,
     "metadata": {},
     "output_type": "execute_result"
    }
   ],
   "source": [
    "df.target.value_counts()"
   ]
  },
  {
   "cell_type": "code",
   "execution_count": 10,
   "metadata": {},
   "outputs": [
    {
     "data": {
      "text/plain": [
       "0"
      ]
     },
     "execution_count": 10,
     "metadata": {},
     "output_type": "execute_result"
    }
   ],
   "source": [
    "df.loc[df.image=='tfymlmdkpzkqdjhdxyhnoeuqszxphw.jpg', 'target'].values[0]"
   ]
  },
  {
   "cell_type": "code",
   "execution_count": 11,
   "metadata": {},
   "outputs": [],
   "source": [
    "main = [x for x in df.image]\n",
    "delete = []\n",
    "for i in os.listdir(\"JPEGImages\"):\n",
    "    if i in main:\n",
    "        if df.loc[df.image==i, 'target'].values[0]==0:\n",
    "            os.remove(\"JPEGImages/\"+i)\n",
    "    else:\n",
    "        delete.append(i)"
   ]
  },
  {
   "cell_type": "code",
   "execution_count": 12,
   "metadata": {},
   "outputs": [],
   "source": [
    "for i in delete:\n",
    "    os.remove(\"JPEGImages/\"+i)"
   ]
  },
  {
   "cell_type": "markdown",
   "metadata": {},
   "source": [
    "## Convert all images to JPG"
   ]
  },
  {
   "cell_type": "code",
   "execution_count": 13,
   "metadata": {
    "colab": {},
    "colab_type": "code",
    "id": "KS2mA3vJUvd6"
   },
   "outputs": [],
   "source": [
    "directory = r'JPEGImages'\n",
    "\n",
    "for filename in os.listdir(directory):\n",
    "    full_path = os.path.join(directory, filename)\n",
    "    if not filename.endswith(\".jpg\"):\n",
    "        pre, ext = os.path.splitext(filename)\n",
    "        os.rename(full_path, directory + \"/\" + pre + '.jpg')\n",
    "    else:\n",
    "        continue"
   ]
  },
  {
   "cell_type": "code",
   "execution_count": null,
   "metadata": {},
   "outputs": [],
   "source": []
  }
 ],
 "metadata": {
  "accelerator": "GPU",
  "colab": {
   "collapsed_sections": [],
   "name": "Notebook.ipynb",
   "provenance": []
  },
  "kernelspec": {
   "display_name": "Python 3",
   "language": "python",
   "name": "python3"
  },
  "language_info": {
   "codemirror_mode": {
    "name": "ipython",
    "version": 3
   },
   "file_extension": ".py",
   "mimetype": "text/x-python",
   "name": "python",
   "nbconvert_exporter": "python",
   "pygments_lexer": "ipython3",
   "version": "3.7.6"
  }
 },
 "nbformat": 4,
 "nbformat_minor": 1
}
